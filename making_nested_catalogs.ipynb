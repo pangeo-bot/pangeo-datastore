{
 "cells": [
  {
   "cell_type": "code",
   "execution_count": null,
   "metadata": {},
   "outputs": [],
   "source": [
    "import gcsfs\n",
    "import yaml"
   ]
  },
  {
   "cell_type": "code",
   "execution_count": null,
   "metadata": {},
   "outputs": [],
   "source": [
    "fs = gcsfs.GCSFileSystem(\"pangeo-181919\")"
   ]
  },
  {
   "cell_type": "code",
   "execution_count": null,
   "metadata": {},
   "outputs": [],
   "source": [
    "def make_yaml_catalog(fs, root):\n",
    "            \n",
    "    d = {\"sources\" : dict()}\n",
    "        \n",
    "    for path in fs.ls(root):\n",
    "                \n",
    "        name = path.split(\"/\")[-2]\n",
    "                \n",
    "        if fs.isdir(path):\n",
    "            \n",
    "            if fs.exists(path + \".zgroup\"):\n",
    "                                \n",
    "                if \"plugins\" not in d:\n",
    "                    \n",
    "                    d[\"plugins\"] = {\"source\" : [{\"module\" : \"intake_xarray\"}]}\n",
    "                    \n",
    "                d[\"sources\"][name] = {\"driver\" : \"zarr\",\n",
    "                                      \"args\" : {\"urlpath\" : \"gs://%s\" % path,\n",
    "                                                \"storage_options\" : {\"token\" : \"anon\"},\n",
    "                                                \"consolidated\" : False},\n",
    "                                      \"description\" : \"\",\n",
    "                                      \"metadata\" : dict()}\n",
    "                \n",
    "                if fs.exists(path + \".zmetadata\"):\n",
    "                    \n",
    "                    d[\"sources\"][name][\"args\"][\"consolidated\"] = True\n",
    "                                      \n",
    "            else:\n",
    "                \n",
    "                d[\"sources\"][name] = {\"args\" : {\"path\" : \"{{CATALOG_DIR}}/%s/catalog.yaml\" % name},\n",
    "                                      \"description\" : \"\",\n",
    "                                      \"driver\" : \"intake.catalog.local.YAMLFileCatalog\",\n",
    "                                      \"metadata\" : dict()}\n",
    "                \n",
    "                make_yaml_catalog(fs, path)\n",
    "\n",
    "        elif \".nc\" in name:\n",
    "            \n",
    "            print(\"%s is an nc file; still need to work out how to handle these\" % path)\n",
    "            \n",
    "    ! mkdir -p {root[12:]}\n",
    "        \n",
    "    with open(root[12:] + \"catalog.yaml\", \"w\") as outfile:\n",
    "        \n",
    "        yaml.dump(d, outfile)\n",
    "        \n",
    "    print(root)\n",
    "            \n",
    "make_yaml_catalog(fs, \"pangeo-data/tracmip/\")"
   ]
  },
  {
   "cell_type": "code",
   "execution_count": null,
   "metadata": {},
   "outputs": [],
   "source": []
  }
 ],
 "metadata": {
  "kernelspec": {
   "display_name": "TRACMIP",
   "language": "python",
   "name": "tracmip"
  },
  "language_info": {
   "codemirror_mode": {
    "name": "ipython",
    "version": 3
   },
   "file_extension": ".py",
   "mimetype": "text/x-python",
   "name": "python",
   "nbconvert_exporter": "python",
   "pygments_lexer": "ipython3",
   "version": "3.7.4"
  }
 },
 "nbformat": 4,
 "nbformat_minor": 4
}
