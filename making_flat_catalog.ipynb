{
 "cells": [
  {
   "cell_type": "code",
   "execution_count": 1,
   "metadata": {},
   "outputs": [],
   "source": [
    "import gcsfs\n",
    "import ruamel.yaml as yaml\n",
    "import json"
   ]
  },
  {
   "cell_type": "code",
   "execution_count": 2,
   "metadata": {},
   "outputs": [],
   "source": [
    "with open(\"zarr_stores.json\", \"r\") as f:\n",
    "    zarr_stores = json.load(f)"
   ]
  },
  {
   "cell_type": "code",
   "execution_count": 12,
   "metadata": {},
   "outputs": [],
   "source": [
    "d = {\"plugins\" : {\"source\" : [{\"module\" : \"intake_xarray\"}]},\n",
    "     \"sources\" : dict()}\n",
    "\n",
    "for path in zarr_stores:\n",
    "    \n",
    "    name = path[17:].replace(\"/\", \".\")\n",
    "    \n",
    "    d[\"sources\"][name] = {\"driver\" : \"zarr\",\n",
    "                          \"args\" : {\"urlpath\" :  path,\n",
    "                                    \"storage_options\" : {\"token\" : \"anon\"},\n",
    "                                    \"consolidated\" : zarr_stores[path]},\n",
    "                          \"description\" : \"\",\n",
    "                          \"metadata\" : dict()}"
   ]
  },
  {
   "cell_type": "code",
   "execution_count": 16,
   "metadata": {},
   "outputs": [],
   "source": [
    "with open(\"master.yaml\", \"w\") as f:\n",
    "    yaml.dump(d, f)"
   ]
  },
  {
   "cell_type": "code",
   "execution_count": null,
   "metadata": {},
   "outputs": [],
   "source": []
  }
 ],
 "metadata": {
  "kernelspec": {
   "display_name": "TRACMIP",
   "language": "python",
   "name": "tracmip"
  },
  "language_info": {
   "codemirror_mode": {
    "name": "ipython",
    "version": 3
   },
   "file_extension": ".py",
   "mimetype": "text/x-python",
   "name": "python",
   "nbconvert_exporter": "python",
   "pygments_lexer": "ipython3",
   "version": "3.7.4"
  }
 },
 "nbformat": 4,
 "nbformat_minor": 2
}
